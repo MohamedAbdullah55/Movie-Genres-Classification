{
 "cells": [
  {
   "cell_type": "markdown",
   "metadata": {
    "colab_type": "text",
    "id": "oWs9WrUJLqZ8"
   },
   "source": [
    "# Movie Genres Classification\n",
    "\n",
    "![image](https://i.ytimg.com/vi/TjW1SsvbA9s/maxresdefault.jpg)\n",
    "\n",
    "**Welcome all 😊**<br>\n",
    "\n",
    "In this kernel we will go together into **Movie Poster** data to learn how use convolutional neural network **CNN** techniques and applied it on images.<br>\n",
    "\n",
    "This kernel will be devided into the following parts<br>\n",
    "\n",
    "<ol>\n",
    "    <li><b>Data Exploration</b></li>\n",
    "    <li><b>Data Preparation</b></li>\n",
    "    <li><b>CNN Overview</b></li>\n",
    "    <li><b>CNN Types</b></li>\n",
    "    <li><b>CNN Model Building</b></li>\n",
    "    <li><b>CNN Models evaluation</b></li>\n",
    "</ol>\n",
    "\n",
    "Now we will install GBU and then import libraries and load our data."
   ]
  },
  {
   "cell_type": "code",
   "execution_count": 1,
   "metadata": {
    "colab": {
     "base_uri": "https://localhost:8080/",
     "height": 524
    },
    "colab_type": "code",
    "id": "WWCfZjhiAWV7",
    "outputId": "5a3e40e9-c93e-480b-cce8-e56b938d3d0c"
   },
   "outputs": [
    {
     "name": "stdout",
     "output_type": "stream",
     "text": [
      "Collecting tensorflow-gpu==2.0.0-rc0\n",
      "\u001b[?25l  Downloading https://files.pythonhosted.org/packages/6a/12/8c64cc62149cc21c70c55018502831bbf4d42bd62bed196df7de6830d21b/tensorflow_gpu-2.0.0rc0-cp36-cp36m-manylinux2010_x86_64.whl (380.5MB)\n",
      "\u001b[K     |████████████████████████████████| 380.5MB 27kB/s \n",
      "\u001b[?25hRequirement already satisfied: absl-py>=0.7.0 in /usr/local/lib/python3.6/dist-packages (from tensorflow-gpu==2.0.0-rc0) (0.9.0)\n",
      "Requirement already satisfied: keras-applications>=1.0.8 in /usr/local/lib/python3.6/dist-packages (from tensorflow-gpu==2.0.0-rc0) (1.0.8)\n",
      "Requirement already satisfied: protobuf>=3.6.1 in /usr/local/lib/python3.6/dist-packages (from tensorflow-gpu==2.0.0-rc0) (3.10.0)\n",
      "Requirement already satisfied: numpy<2.0,>=1.16.0 in /usr/local/lib/python3.6/dist-packages (from tensorflow-gpu==2.0.0-rc0) (1.18.2)\n",
      "Requirement already satisfied: opt-einsum>=2.3.2 in /usr/local/lib/python3.6/dist-packages (from tensorflow-gpu==2.0.0-rc0) (3.2.0)\n",
      "Requirement already satisfied: keras-preprocessing>=1.0.5 in /usr/local/lib/python3.6/dist-packages (from tensorflow-gpu==2.0.0-rc0) (1.1.0)\n",
      "Requirement already satisfied: wrapt>=1.11.1 in /usr/local/lib/python3.6/dist-packages (from tensorflow-gpu==2.0.0-rc0) (1.12.1)\n",
      "Requirement already satisfied: grpcio>=1.8.6 in /usr/local/lib/python3.6/dist-packages (from tensorflow-gpu==2.0.0-rc0) (1.27.2)\n",
      "Requirement already satisfied: termcolor>=1.1.0 in /usr/local/lib/python3.6/dist-packages (from tensorflow-gpu==2.0.0-rc0) (1.1.0)\n",
      "Collecting tb-nightly<1.15.0a20190807,>=1.15.0a20190806\n",
      "\u001b[?25l  Downloading https://files.pythonhosted.org/packages/bc/88/24b5fb7280e74c7cf65bde47c171547fd02afb3840cff41bcbe9270650f5/tb_nightly-1.15.0a20190806-py3-none-any.whl (4.3MB)\n",
      "\u001b[K     |████████████████████████████████| 4.3MB 48.3MB/s \n",
      "\u001b[?25hRequirement already satisfied: six>=1.10.0 in /usr/local/lib/python3.6/dist-packages (from tensorflow-gpu==2.0.0-rc0) (1.12.0)\n",
      "Requirement already satisfied: google-pasta>=0.1.6 in /usr/local/lib/python3.6/dist-packages (from tensorflow-gpu==2.0.0-rc0) (0.2.0)\n",
      "Requirement already satisfied: gast>=0.2.0 in /usr/local/lib/python3.6/dist-packages (from tensorflow-gpu==2.0.0-rc0) (0.3.3)\n",
      "Requirement already satisfied: wheel>=0.26 in /usr/local/lib/python3.6/dist-packages (from tensorflow-gpu==2.0.0-rc0) (0.34.2)\n",
      "Collecting tf-estimator-nightly<1.14.0.dev2019080602,>=1.14.0.dev2019080601\n",
      "\u001b[?25l  Downloading https://files.pythonhosted.org/packages/21/28/f2a27a62943d5f041e4a6fd404b2d21cb7c59b2242a4e73b03d9ba166552/tf_estimator_nightly-1.14.0.dev2019080601-py2.py3-none-any.whl (501kB)\n",
      "\u001b[K     |████████████████████████████████| 501kB 64.0MB/s \n",
      "\u001b[?25hRequirement already satisfied: astor>=0.6.0 in /usr/local/lib/python3.6/dist-packages (from tensorflow-gpu==2.0.0-rc0) (0.8.1)\n",
      "Requirement already satisfied: h5py in /usr/local/lib/python3.6/dist-packages (from keras-applications>=1.0.8->tensorflow-gpu==2.0.0-rc0) (2.10.0)\n",
      "Requirement already satisfied: setuptools in /usr/local/lib/python3.6/dist-packages (from protobuf>=3.6.1->tensorflow-gpu==2.0.0-rc0) (46.1.3)\n",
      "Requirement already satisfied: markdown>=2.6.8 in /usr/local/lib/python3.6/dist-packages (from tb-nightly<1.15.0a20190807,>=1.15.0a20190806->tensorflow-gpu==2.0.0-rc0) (3.2.1)\n",
      "Requirement already satisfied: werkzeug>=0.11.15 in /usr/local/lib/python3.6/dist-packages (from tb-nightly<1.15.0a20190807,>=1.15.0a20190806->tensorflow-gpu==2.0.0-rc0) (1.0.1)\n",
      "Installing collected packages: tb-nightly, tf-estimator-nightly, tensorflow-gpu\n",
      "Successfully installed tb-nightly-1.15.0a20190806 tensorflow-gpu-2.0.0rc0 tf-estimator-nightly-1.14.0.dev2019080601\n"
     ]
    }
   ],
   "source": [
    "!pip install tensorflow-gpu==2.0.0-rc0"
   ]
  },
  {
   "cell_type": "code",
   "execution_count": 2,
   "metadata": {
    "colab": {
     "base_uri": "https://localhost:8080/",
     "height": 50
    },
    "colab_type": "code",
    "id": "H2dxoLaoUp-Z",
    "outputId": "1cdc781e-14d8-4dab-cc17-5a04636e1fa6"
   },
   "outputs": [
    {
     "name": "stderr",
     "output_type": "stream",
     "text": [
      "Using TensorFlow backend.\n"
     ]
    },
    {
     "name": "stdout",
     "output_type": "stream",
     "text": [
      "library loaded successfully :)\n"
     ]
    }
   ],
   "source": [
    "#basic python libraries\n",
    "import numpy as np\n",
    "import pandas as pd\n",
    "import matplotlib.pyplot as plt\n",
    "from tqdm import tqdm\n",
    "\n",
    "#tensorflow libraries\n",
    "import tensorflow as tf\n",
    "from tensorflow import keras\n",
    "from keras.preprocessing.image import ImageDataGenerator\n",
    "from keras.preprocessing import image\n",
    "\n",
    "#tensorflow keras api libraries\n",
    "from tensorflow.keras import Sequential\n",
    "from tensorflow.keras.layers import Flatten\n",
    "from tensorflow.keras.layers import Dense\n",
    "from tensorflow.keras.layers import Conv2D\n",
    "from tensorflow.keras.layers import MaxPool2D\n",
    "from tensorflow.keras.layers import AveragePooling2D\n",
    "from tensorflow.keras.layers import Dropout\n",
    "from tensorflow.keras.layers import BatchNormalization\n",
    "from keras import regularizers\n",
    "\n",
    "#other helpful libraries\n",
    "from mlxtend.plotting import plot_confusion_matrix\n",
    "from sklearn.model_selection import train_test_split\n",
    "from sklearn.metrics import confusion_matrix\n",
    "from sklearn.metrics import accuracy_score\n",
    "import os\n",
    "import shutil\n",
    "%matplotlib inline\n",
    "\n",
    "print(\"library loaded successfully :)\")"
   ]
  },
  {
   "cell_type": "markdown",
   "metadata": {
    "colab_type": "text",
    "id": "eYo3488ARe0B"
   },
   "source": [
    "# 1. Data Exploration\n",
    "\n",
    "Now we will read our data and explore it. let's go"
   ]
  },
  {
   "cell_type": "code",
   "execution_count": 3,
   "metadata": {
    "colab": {
     "base_uri": "https://localhost:8080/",
     "height": 34
    },
    "colab_type": "code",
    "id": "kC6JVMU3QdQV",
    "outputId": "aeeb848c-2a05-4005-b8f5-590303447028"
   },
   "outputs": [
    {
     "name": "stdout",
     "output_type": "stream",
     "text": [
      "data loaded successfully :)\n"
     ]
    }
   ],
   "source": [
    "#read our data\n",
    "data = pd.read_csv(\"/content/drive/My Drive/Movie_Poster_Dataset/train.csv\")\n",
    "print(\"data loaded successfully :)\")"
   ]
  },
  {
   "cell_type": "code",
   "execution_count": 4,
   "metadata": {
    "colab": {
     "base_uri": "https://localhost:8080/",
     "height": 350
    },
    "colab_type": "code",
    "id": "qqvdl5UVRdAJ",
    "outputId": "7e5fb370-818a-46ad-86a9-3f88607cc3b7"
   },
   "outputs": [
    {
     "name": "stdout",
     "output_type": "stream",
     "text": [
      "data shape =  (7254, 27)\n"
     ]
    },
    {
     "data": {
      "text/html": [
       "<div>\n",
       "<style scoped>\n",
       "    .dataframe tbody tr th:only-of-type {\n",
       "        vertical-align: middle;\n",
       "    }\n",
       "\n",
       "    .dataframe tbody tr th {\n",
       "        vertical-align: top;\n",
       "    }\n",
       "\n",
       "    .dataframe thead th {\n",
       "        text-align: right;\n",
       "    }\n",
       "</style>\n",
       "<table border=\"1\" class=\"dataframe\">\n",
       "  <thead>\n",
       "    <tr style=\"text-align: right;\">\n",
       "      <th></th>\n",
       "      <th>Id</th>\n",
       "      <th>Genre</th>\n",
       "      <th>Action</th>\n",
       "      <th>Adventure</th>\n",
       "      <th>Animation</th>\n",
       "      <th>Biography</th>\n",
       "      <th>Comedy</th>\n",
       "      <th>Crime</th>\n",
       "      <th>Documentary</th>\n",
       "      <th>Drama</th>\n",
       "      <th>Family</th>\n",
       "      <th>Fantasy</th>\n",
       "      <th>History</th>\n",
       "      <th>Horror</th>\n",
       "      <th>Music</th>\n",
       "      <th>Musical</th>\n",
       "      <th>Mystery</th>\n",
       "      <th>N/A</th>\n",
       "      <th>News</th>\n",
       "      <th>Reality-TV</th>\n",
       "      <th>Romance</th>\n",
       "      <th>Sci-Fi</th>\n",
       "      <th>Short</th>\n",
       "      <th>Sport</th>\n",
       "      <th>Thriller</th>\n",
       "      <th>War</th>\n",
       "      <th>Western</th>\n",
       "    </tr>\n",
       "  </thead>\n",
       "  <tbody>\n",
       "    <tr>\n",
       "      <th>0</th>\n",
       "      <td>tt0086425</td>\n",
       "      <td>['Comedy', 'Drama']</td>\n",
       "      <td>0</td>\n",
       "      <td>0</td>\n",
       "      <td>0</td>\n",
       "      <td>0</td>\n",
       "      <td>1</td>\n",
       "      <td>0</td>\n",
       "      <td>0</td>\n",
       "      <td>1</td>\n",
       "      <td>0</td>\n",
       "      <td>0</td>\n",
       "      <td>0</td>\n",
       "      <td>0</td>\n",
       "      <td>0</td>\n",
       "      <td>0</td>\n",
       "      <td>0</td>\n",
       "      <td>0</td>\n",
       "      <td>0</td>\n",
       "      <td>0</td>\n",
       "      <td>0</td>\n",
       "      <td>0</td>\n",
       "      <td>0</td>\n",
       "      <td>0</td>\n",
       "      <td>0</td>\n",
       "      <td>0</td>\n",
       "      <td>0</td>\n",
       "    </tr>\n",
       "    <tr>\n",
       "      <th>1</th>\n",
       "      <td>tt0085549</td>\n",
       "      <td>['Drama', 'Romance', 'Music']</td>\n",
       "      <td>0</td>\n",
       "      <td>0</td>\n",
       "      <td>0</td>\n",
       "      <td>0</td>\n",
       "      <td>0</td>\n",
       "      <td>0</td>\n",
       "      <td>0</td>\n",
       "      <td>1</td>\n",
       "      <td>0</td>\n",
       "      <td>0</td>\n",
       "      <td>0</td>\n",
       "      <td>0</td>\n",
       "      <td>1</td>\n",
       "      <td>0</td>\n",
       "      <td>0</td>\n",
       "      <td>0</td>\n",
       "      <td>0</td>\n",
       "      <td>0</td>\n",
       "      <td>1</td>\n",
       "      <td>0</td>\n",
       "      <td>0</td>\n",
       "      <td>0</td>\n",
       "      <td>0</td>\n",
       "      <td>0</td>\n",
       "      <td>0</td>\n",
       "    </tr>\n",
       "    <tr>\n",
       "      <th>2</th>\n",
       "      <td>tt0086465</td>\n",
       "      <td>['Comedy']</td>\n",
       "      <td>0</td>\n",
       "      <td>0</td>\n",
       "      <td>0</td>\n",
       "      <td>0</td>\n",
       "      <td>1</td>\n",
       "      <td>0</td>\n",
       "      <td>0</td>\n",
       "      <td>0</td>\n",
       "      <td>0</td>\n",
       "      <td>0</td>\n",
       "      <td>0</td>\n",
       "      <td>0</td>\n",
       "      <td>0</td>\n",
       "      <td>0</td>\n",
       "      <td>0</td>\n",
       "      <td>0</td>\n",
       "      <td>0</td>\n",
       "      <td>0</td>\n",
       "      <td>0</td>\n",
       "      <td>0</td>\n",
       "      <td>0</td>\n",
       "      <td>0</td>\n",
       "      <td>0</td>\n",
       "      <td>0</td>\n",
       "      <td>0</td>\n",
       "    </tr>\n",
       "    <tr>\n",
       "      <th>3</th>\n",
       "      <td>tt0086567</td>\n",
       "      <td>['Sci-Fi', 'Thriller']</td>\n",
       "      <td>0</td>\n",
       "      <td>0</td>\n",
       "      <td>0</td>\n",
       "      <td>0</td>\n",
       "      <td>0</td>\n",
       "      <td>0</td>\n",
       "      <td>0</td>\n",
       "      <td>0</td>\n",
       "      <td>0</td>\n",
       "      <td>0</td>\n",
       "      <td>0</td>\n",
       "      <td>0</td>\n",
       "      <td>0</td>\n",
       "      <td>0</td>\n",
       "      <td>0</td>\n",
       "      <td>0</td>\n",
       "      <td>0</td>\n",
       "      <td>0</td>\n",
       "      <td>0</td>\n",
       "      <td>1</td>\n",
       "      <td>0</td>\n",
       "      <td>0</td>\n",
       "      <td>1</td>\n",
       "      <td>0</td>\n",
       "      <td>0</td>\n",
       "    </tr>\n",
       "    <tr>\n",
       "      <th>4</th>\n",
       "      <td>tt0086034</td>\n",
       "      <td>['Action', 'Adventure', 'Thriller']</td>\n",
       "      <td>1</td>\n",
       "      <td>1</td>\n",
       "      <td>0</td>\n",
       "      <td>0</td>\n",
       "      <td>0</td>\n",
       "      <td>0</td>\n",
       "      <td>0</td>\n",
       "      <td>0</td>\n",
       "      <td>0</td>\n",
       "      <td>0</td>\n",
       "      <td>0</td>\n",
       "      <td>0</td>\n",
       "      <td>0</td>\n",
       "      <td>0</td>\n",
       "      <td>0</td>\n",
       "      <td>0</td>\n",
       "      <td>0</td>\n",
       "      <td>0</td>\n",
       "      <td>0</td>\n",
       "      <td>0</td>\n",
       "      <td>0</td>\n",
       "      <td>0</td>\n",
       "      <td>1</td>\n",
       "      <td>0</td>\n",
       "      <td>0</td>\n",
       "    </tr>\n",
       "  </tbody>\n",
       "</table>\n",
       "</div>"
      ],
      "text/plain": [
       "          Id                                Genre  ...  War  Western\n",
       "0  tt0086425                  ['Comedy', 'Drama']  ...    0        0\n",
       "1  tt0085549        ['Drama', 'Romance', 'Music']  ...    0        0\n",
       "2  tt0086465                           ['Comedy']  ...    0        0\n",
       "3  tt0086567               ['Sci-Fi', 'Thriller']  ...    0        0\n",
       "4  tt0086034  ['Action', 'Adventure', 'Thriller']  ...    0        0\n",
       "\n",
       "[5 rows x 27 columns]"
      ]
     },
     "execution_count": 4,
     "metadata": {
      "tags": []
     },
     "output_type": "execute_result"
    }
   ],
   "source": [
    "print(\"data shape = \",data.shape)\n",
    "data.head()"
   ]
  },
  {
   "cell_type": "markdown",
   "metadata": {
    "colab_type": "text",
    "id": "ydH6ZfaDSkL0"
   },
   "source": [
    "After we took a quick look at our data. let's discover if it contain any missing values."
   ]
  },
  {
   "cell_type": "markdown",
   "metadata": {
    "colab_type": "text",
    "id": "9RNiu32jTOl1"
   },
   "source": [
    "## 1.1 Missing Data"
   ]
  },
  {
   "cell_type": "code",
   "execution_count": 5,
   "metadata": {
    "colab": {
     "base_uri": "https://localhost:8080/",
     "height": 846
    },
    "colab_type": "code",
    "id": "XNIJfymJSQSd",
    "outputId": "33e18a54-3dc8-4c0d-8c7a-3896f4dd7112"
   },
   "outputs": [
    {
     "data": {
      "text/html": [
       "<div>\n",
       "<style scoped>\n",
       "    .dataframe tbody tr th:only-of-type {\n",
       "        vertical-align: middle;\n",
       "    }\n",
       "\n",
       "    .dataframe tbody tr th {\n",
       "        vertical-align: top;\n",
       "    }\n",
       "\n",
       "    .dataframe thead th {\n",
       "        text-align: right;\n",
       "    }\n",
       "</style>\n",
       "<table border=\"1\" class=\"dataframe\">\n",
       "  <thead>\n",
       "    <tr style=\"text-align: right;\">\n",
       "      <th></th>\n",
       "      <th>Total</th>\n",
       "      <th>Percent</th>\n",
       "    </tr>\n",
       "  </thead>\n",
       "  <tbody>\n",
       "    <tr>\n",
       "      <th>Western</th>\n",
       "      <td>0</td>\n",
       "      <td>0.0</td>\n",
       "    </tr>\n",
       "    <tr>\n",
       "      <th>History</th>\n",
       "      <td>0</td>\n",
       "      <td>0.0</td>\n",
       "    </tr>\n",
       "    <tr>\n",
       "      <th>Genre</th>\n",
       "      <td>0</td>\n",
       "      <td>0.0</td>\n",
       "    </tr>\n",
       "    <tr>\n",
       "      <th>Action</th>\n",
       "      <td>0</td>\n",
       "      <td>0.0</td>\n",
       "    </tr>\n",
       "    <tr>\n",
       "      <th>Adventure</th>\n",
       "      <td>0</td>\n",
       "      <td>0.0</td>\n",
       "    </tr>\n",
       "    <tr>\n",
       "      <th>Animation</th>\n",
       "      <td>0</td>\n",
       "      <td>0.0</td>\n",
       "    </tr>\n",
       "    <tr>\n",
       "      <th>Biography</th>\n",
       "      <td>0</td>\n",
       "      <td>0.0</td>\n",
       "    </tr>\n",
       "    <tr>\n",
       "      <th>Comedy</th>\n",
       "      <td>0</td>\n",
       "      <td>0.0</td>\n",
       "    </tr>\n",
       "    <tr>\n",
       "      <th>Crime</th>\n",
       "      <td>0</td>\n",
       "      <td>0.0</td>\n",
       "    </tr>\n",
       "    <tr>\n",
       "      <th>Documentary</th>\n",
       "      <td>0</td>\n",
       "      <td>0.0</td>\n",
       "    </tr>\n",
       "    <tr>\n",
       "      <th>Drama</th>\n",
       "      <td>0</td>\n",
       "      <td>0.0</td>\n",
       "    </tr>\n",
       "    <tr>\n",
       "      <th>Family</th>\n",
       "      <td>0</td>\n",
       "      <td>0.0</td>\n",
       "    </tr>\n",
       "    <tr>\n",
       "      <th>Fantasy</th>\n",
       "      <td>0</td>\n",
       "      <td>0.0</td>\n",
       "    </tr>\n",
       "    <tr>\n",
       "      <th>Horror</th>\n",
       "      <td>0</td>\n",
       "      <td>0.0</td>\n",
       "    </tr>\n",
       "    <tr>\n",
       "      <th>War</th>\n",
       "      <td>0</td>\n",
       "      <td>0.0</td>\n",
       "    </tr>\n",
       "    <tr>\n",
       "      <th>Music</th>\n",
       "      <td>0</td>\n",
       "      <td>0.0</td>\n",
       "    </tr>\n",
       "    <tr>\n",
       "      <th>Musical</th>\n",
       "      <td>0</td>\n",
       "      <td>0.0</td>\n",
       "    </tr>\n",
       "    <tr>\n",
       "      <th>Mystery</th>\n",
       "      <td>0</td>\n",
       "      <td>0.0</td>\n",
       "    </tr>\n",
       "    <tr>\n",
       "      <th>N/A</th>\n",
       "      <td>0</td>\n",
       "      <td>0.0</td>\n",
       "    </tr>\n",
       "    <tr>\n",
       "      <th>News</th>\n",
       "      <td>0</td>\n",
       "      <td>0.0</td>\n",
       "    </tr>\n",
       "    <tr>\n",
       "      <th>Reality-TV</th>\n",
       "      <td>0</td>\n",
       "      <td>0.0</td>\n",
       "    </tr>\n",
       "    <tr>\n",
       "      <th>Romance</th>\n",
       "      <td>0</td>\n",
       "      <td>0.0</td>\n",
       "    </tr>\n",
       "    <tr>\n",
       "      <th>Sci-Fi</th>\n",
       "      <td>0</td>\n",
       "      <td>0.0</td>\n",
       "    </tr>\n",
       "    <tr>\n",
       "      <th>Short</th>\n",
       "      <td>0</td>\n",
       "      <td>0.0</td>\n",
       "    </tr>\n",
       "    <tr>\n",
       "      <th>Sport</th>\n",
       "      <td>0</td>\n",
       "      <td>0.0</td>\n",
       "    </tr>\n",
       "    <tr>\n",
       "      <th>Thriller</th>\n",
       "      <td>0</td>\n",
       "      <td>0.0</td>\n",
       "    </tr>\n",
       "    <tr>\n",
       "      <th>Id</th>\n",
       "      <td>0</td>\n",
       "      <td>0.0</td>\n",
       "    </tr>\n",
       "  </tbody>\n",
       "</table>\n",
       "</div>"
      ],
      "text/plain": [
       "             Total  Percent\n",
       "Western          0      0.0\n",
       "History          0      0.0\n",
       "Genre            0      0.0\n",
       "Action           0      0.0\n",
       "Adventure        0      0.0\n",
       "Animation        0      0.0\n",
       "Biography        0      0.0\n",
       "Comedy           0      0.0\n",
       "Crime            0      0.0\n",
       "Documentary      0      0.0\n",
       "Drama            0      0.0\n",
       "Family           0      0.0\n",
       "Fantasy          0      0.0\n",
       "Horror           0      0.0\n",
       "War              0      0.0\n",
       "Music            0      0.0\n",
       "Musical          0      0.0\n",
       "Mystery          0      0.0\n",
       "N/A              0      0.0\n",
       "News             0      0.0\n",
       "Reality-TV       0      0.0\n",
       "Romance          0      0.0\n",
       "Sci-Fi           0      0.0\n",
       "Short            0      0.0\n",
       "Sport            0      0.0\n",
       "Thriller         0      0.0\n",
       "Id               0      0.0"
      ]
     },
     "execution_count": 5,
     "metadata": {
      "tags": []
     },
     "output_type": "execute_result"
    }
   ],
   "source": [
    "#get total count of data including missing data\n",
    "total = data.isnull().sum().sort_values(ascending=False)\n",
    "\n",
    "#get percent of missing data relevant to all data\n",
    "percent = (data.isnull().sum()/data.isnull().count()).sort_values(ascending=False)\n",
    "\n",
    "missing_data = pd.concat([total, percent], axis=1, keys=['Total', 'Percent'])\n",
    "missing_data.head(data.shape[1])"
   ]
  },
  {
   "cell_type": "markdown",
   "metadata": {
    "colab_type": "text",
    "id": "3P27dvDbTmIz"
   },
   "source": [
    "**Nice** our data don't have any missing values. Now we're ready to deal with **CNN** model.<br>\n",
    "\n",
    "# 2. Data Preparation\n",
    "\n",
    "Before deal with **CNN** model we must specifies **X** wich refer  to images and **y** wich refere to genres. To assign all images in **X** list we will move all image to single **Folder** I will name it **images**."
   ]
  },
  {
   "cell_type": "code",
   "execution_count": 6,
   "metadata": {
    "colab": {
     "base_uri": "https://localhost:8080/",
     "height": 50
    },
    "colab_type": "code",
    "id": "X9WaMEwfXUhI",
    "outputId": "467889a0-802b-4dde-b6b3-12e6cc1b6c0c"
   },
   "outputs": [
    {
     "name": "stderr",
     "output_type": "stream",
     "text": [
      "100%|██████████| 7254/7254 [50:23<00:00,  2.40it/s]"
     ]
    },
    {
     "name": "stdout",
     "output_type": "stream",
     "text": [
      "All images stored in X list successfully :)\n"
     ]
    },
    {
     "name": "stderr",
     "output_type": "stream",
     "text": [
      "\n"
     ]
    }
   ],
   "source": [
    "#define image Constants\n",
    "image_width  = 350\n",
    "image_height = 350\n",
    "image_channels = 3\n",
    "\n",
    "#X refer to images data\n",
    "X = []\n",
    "\n",
    "folderPath = \"/content/drive/My Drive/Movie_Poster_Dataset/images\"\n",
    "for i in tqdm(range(data.shape[0])):\n",
    "    path = folderPath+\"/\"+data['Id'][i]+\".jpg\"\n",
    "    img = image.load_img(path, target_size = (image_width,image_height,image_channels))\n",
    "    img = image.img_to_array(img)\n",
    "    img = img/255\n",
    "    X.append(img)\n",
    "\n",
    "print(\"All images stored in X list successfully :)\")    "
   ]
  },
  {
   "cell_type": "code",
   "execution_count": 12,
   "metadata": {
    "colab": {
     "base_uri": "https://localhost:8080/",
     "height": 34
    },
    "colab_type": "code",
    "id": "oPkKomUHThCJ",
    "outputId": "9d66fe58-4620-4018-aaa9-08ec707caaba"
   },
   "outputs": [
    {
     "name": "stdout",
     "output_type": "stream",
     "text": [
      "X shape :  (7254, 350, 350, 3)\n"
     ]
    }
   ],
   "source": [
    "#convert X list to array\n",
    "X = np.array(X)\n",
    "print(\"X shape : \",X.shape)"
   ]
  },
  {
   "cell_type": "markdown",
   "metadata": {
    "colab_type": "text",
    "id": "UkwmRRfSf9QQ"
   },
   "source": [
    "Now let's show an image."
   ]
  },
  {
   "cell_type": "code",
   "execution_count": 13,
   "metadata": {
    "colab": {
     "base_uri": "https://localhost:8080/",
     "height": 302
    },
    "colab_type": "code",
    "id": "SzcGGWb7ZJ9H",
    "outputId": "ec03e8f2-c379-4d1c-97f2-3f6db4385cd1"
   },
   "outputs": [
    {
     "name": "stdout",
     "output_type": "stream",
     "text": [
      "Image Id : tt0106379\n",
      "Image Genres : ['Comedy', 'Drama']\n"
     ]
    },
    {
     "data": {
      "image/png": "[encoded data removed]",
      "text/plain": [
       "<Figure size 432x288 with 1 Axes>"
      ]
     },
     "metadata": {
      "tags": []
     },
     "output_type": "display_data"
    }
   ],
   "source": [
    "imgIndex = 1997\n",
    "print(\"Image Id :\",data['Id'][imgIndex])\n",
    "print(\"Image Genres :\",data['Genre'][imgIndex])\n",
    "plt.imshow(X[imgIndex])\n",
    "plt.show()"
   ]
  },
  {
   "cell_type": "markdown",
   "metadata": {
    "colab_type": "text",
    "id": "A2FIOvIsnVlf"
   },
   "source": [
    "After we assign images to **X**, let's assign Genres to **y**. "
   ]
  },
  {
   "cell_type": "code",
   "execution_count": 14,
   "metadata": {
    "colab": {
     "base_uri": "https://localhost:8080/",
     "height": 34
    },
    "colab_type": "code",
    "id": "xWgPfdXlmTt-",
    "outputId": "d7140ae3-4d7d-43d5-da5c-dc501615d134"
   },
   "outputs": [
    {
     "data": {
      "text/plain": [
       "(7254, 25)"
      ]
     },
     "execution_count": 14,
     "metadata": {
      "tags": []
     },
     "output_type": "execute_result"
    }
   ],
   "source": [
    "#drop Id and Genre columns\n",
    "y = data.drop(['Id','Genre'], axis=1)\n",
    "y = np.array(y)\n",
    "y.shape"
   ]
  },
  {
   "cell_type": "code",
   "execution_count": 15,
   "metadata": {
    "colab": {
     "base_uri": "https://localhost:8080/",
     "height": 34
    },
    "colab_type": "code",
    "id": "dJKLITbfnxUJ",
    "outputId": "4dde9dfb-f953-4dfc-fc08-bd79dc8f5c2d"
   },
   "outputs": [
    {
     "name": "stdout",
     "output_type": "stream",
     "text": [
      "Data splited into train and test successfully :)\n"
     ]
    }
   ],
   "source": [
    "X_train, X_test, y_train, y_test = train_test_split(X, y, random_state = 0, test_size = 0.20)\n",
    "print(\"Data splited into train and test successfully :)\")"
   ]
  },
  {
   "cell_type": "code",
   "execution_count": 16,
   "metadata": {
    "colab": {
     "base_uri": "https://localhost:8080/",
     "height": 34
    },
    "colab_type": "code",
    "id": "wPID7smYloqJ",
    "outputId": "e46bbf2b-9467-4a26-e71b-f9cac6131031"
   },
   "outputs": [
    {
     "name": "stdout",
     "output_type": "stream",
     "text": [
      "Data splited into train and valid successfully :)\n"
     ]
    }
   ],
   "source": [
    "X_train, X_valid, y_train, y_valid = train_test_split(X_train, y_train, random_state = 0, test_size = 0.20)\n",
    "print(\"Data splited into train and valid successfully :)\")"
   ]
  },
  {
   "cell_type": "code",
   "execution_count": 17,
   "metadata": {
    "colab": {
     "base_uri": "https://localhost:8080/",
     "height": 151
    },
    "colab_type": "code",
    "id": "vMbsMUhsoItx",
    "outputId": "12ddfac2-0f8f-43bb-e70b-118ea28d5ae7"
   },
   "outputs": [
    {
     "name": "stdout",
     "output_type": "stream",
     "text": [
      "X_train shape :  (4642, 350, 350, 3)\n",
      "y_train shape :  (4642, 25)\n",
      "+++++++++++++++++++++++++++++++++++++++\n",
      "X_valid shape :  (1161, 350, 350, 3)\n",
      "y_valid shape :  (1161, 25)\n",
      "+++++++++++++++++++++++++++++++++++++++\n",
      "X_test shape :  (1451, 350, 350, 3)\n",
      "t_test shape :  (1451, 25)\n"
     ]
    }
   ],
   "source": [
    "#descover train and test size\n",
    "print(\"X_train shape : \",X_train.shape)\n",
    "print(\"y_train shape : \",y_train.shape)\n",
    "\n",
    "print(\"+++++++++++++++++++++++++++++++++++++++\")\n",
    "\n",
    "print(\"X_valid shape : \",X_valid.shape)\n",
    "print(\"y_valid shape : \",y_valid.shape)\n",
    "\n",
    "print(\"+++++++++++++++++++++++++++++++++++++++\")\n",
    "\n",
    "print(\"X_test shape : \",X_test.shape)\n",
    "print(\"t_test shape : \",y_test.shape)"
   ]
  },
  {
   "cell_type": "markdown",
   "metadata": {
    "colab_type": "text",
    "id": "BTBqFQN56shM"
   },
   "source": [
    "Now, after we prepared our data let's take overview about **CNN**.\n",
    "\n",
    "# 3. CNN Overview\n",
    "<hr>\n",
    "\n",
    "## 3.1 Biological inspiration\n",
    "\n",
    "<br>\n",
    "\n",
    "![image](https://ars.els-cdn.com/content/image/1-s2.0-S0960982214010392-gr1.jpg)\n",
    "\n",
    "\n",
    "\n",
    "Image from [sciencedirect](https://www.sciencedirect.com/science/article/pii/S0960982214010392)\n",
    "\n",
    "CNNs specifically are inspired by the biological visual cortex. The cortex has small regions of cells that are sensitive to the specific areas of the visual field. This idea was expanded by a captivating experiment done by Hubel and Wiesel in 1962. [datacamp](https://www.datacamp.com/community/tutorials/convolutional-neural-networks-python?utm_source=adwords_ppc&utm_campaignid=1455363063&utm_adgroupid=65083631748&utm_device=c&utm_keyword=&utm_matchtype=b&utm_network=g&utm_adpostion=&utm_creative=278443377092&utm_targetid=aud-299261629574:dsa-473406581915&utm_loc_interest_ms=&utm_loc_physical_ms=9048955&gclid=CjwKCAjw4KD0BRBUEiwA7MFNTXEc6XioFqrNKi_Ivb2YietH1wRCeULbPDkxBUNgyBrxRMF8kuSWLhoCTF8QAvD_BwE)\n",
    "\n",
    "## 3.2 In deep learning\n",
    "A Convolutional Neural Network (ConvNet/CNN) is a Deep Learning algorithm which can take in an input image, assign importance (learnable weights and biases) to various aspects/objects in the image and be able to differentiate one from the other. The pre-processing required in a ConvNet is much lower as compared to other classification algorithms. While in primitive methods filters are hand-engineered, with enough training, ConvNets have the ability to learn these filters/characteristics. [towardsdatascience](https://towardsdatascience.com/a-comprehensive-guide-to-convolutional-neural-networks-the-eli5-way-3bd2b1164a53)\n",
    "\n",
    "<br>\n",
    "\n",
    "![image](https://www.symmetrymagazine.org/sites/default/files/images/standard/neural_network_visual_final.jpg)\n",
    "\n",
    "Image from [symmetrymagazine](https://www.symmetrymagazine.org/article/neural-networks-meet-space)\n",
    "\n",
    "<br>\n",
    "\n",
    "**CNN** basically based on **Convolutional Layers** but **what is Convolutional Layers ?**<br>\n",
    "A convolutional layer contains a set of filters whose parameters need to be learned. The height and weight of the filters are smaller than those of the input volume. Each filter is convolved with the input volume to compute an activation map made of neurons. In other words, the filter is slid across the width and height of the input and the dot products between the input and filter are computed at every spatial position. [sciencedirect](https://www.sciencedirect.com/topics/engineering/convolutional-layer)\n",
    "\n",
    "<br>\n",
    "![image](https://cdn-media-1.freecodecamp.org/images/Htskzls1pGp98-X2mHmVy9tCj0cYXkiCrQ4t)\n",
    "\n",
    "<br>\n",
    "\n",
    "Image from [freecodecamp](https://www.freecodecamp.org/news/an-intuitive-guide-to-convolutional-neural-networks-260c2de0a050/)\n",
    "\n",
    "\n",
    "\n",
    "\n",
    "\n"
   ]
  },
  {
   "cell_type": "markdown",
   "metadata": {
    "colab_type": "text",
    "id": "6Rt9zNqNFi2-"
   },
   "source": [
    "# 4. CNN Types\n",
    "\n",
    "Now let's talk about **CNN** types \n",
    "\n",
    "\n",
    "* LeNet\n",
    "* AlexNet\n",
    "* VGGNet 16\n",
    "* GoogleNet / Inception\n",
    "* ResNets\n",
    "\n",
    "## 4.1 LeNet\n",
    "\n",
    "A ground-breaking algorithm that was the first of its kind and capability, in-terms-of object classification. Originally trained to classify hand written digits from 0–9, of the MNIST Dataset. It comprises of 7 — layers, all made of trainable parameters. It takes in a 32 X 32 pixel image, which was comparatively large in size w.r.t the images present in the data sets on which the network was trained. The activation function applied is RELU function. The layers are arranged in the following manner. [towardsdatascience](https://towardsdatascience.com/various-types-of-convolutional-neural-network-8b00c9a08a1b)\n",
    "\n",
    "<br>\n",
    "\n",
    "![image](https://miro.medium.com/max/850/1*AwJZkWLKabIicUPzSN6KCg.png)\n",
    "\n",
    "Image from [medium](https://medium.com/deep-learning-g/build-lenet-from-scratch-7bd0c67a151e)\n",
    "\n",
    "<br>\n",
    "\n",
    "* The First Convolutional Layer consist of 6 filters of size 5 X 5 and a stride of 1.\n",
    "* The Second Layer is a “sub-sampling” or average-pooling layer of size 2 X 2 and a stride of 2.\n",
    "* The Third Layer is also a Convolutional layer consisting of 16 filters of size 5 X 5 and stride of 1.\n",
    "* The Fourth Layer is again an average-pooling layer of size 2 X 2 and stride of 2.\n",
    "* The Fifth Layer is connecting the output of the fourth layer (400 parameters) to a fully connected layer of 120 nodes.\n",
    "* The Sixth Layer is a similarly fully-connected layer consisting of 84 nodes, deriving from the outputs of the 120 nodes of the fifth-layer.\n",
    "* The Seventh Layer (, or the last layer) consist of classifying the output of the last layer into 10 classes related to the 10-digits that it was primarily trained to classify\n",
    "\n",
    "[towardsdatascience](https://towardsdatascience.com/various-types-of-convolutional-neural-network-8b00c9a08a1b)\n",
    "\n",
    "**let's implement it**"
   ]
  },
  {
   "cell_type": "code",
   "execution_count": 18,
   "metadata": {
    "colab": {
     "base_uri": "https://localhost:8080/",
     "height": 420
    },
    "colab_type": "code",
    "id": "ipq-fPc257XC",
    "outputId": "ba30461e-7e2b-4886-977a-cdb2ab6bed63"
   },
   "outputs": [
    {
     "name": "stdout",
     "output_type": "stream",
     "text": [
      "Model: \"sequential\"\n",
      "_________________________________________________________________\n",
      "Layer (type)                 Output Shape              Param #   \n",
      "=================================================================\n",
      "conv2d (Conv2D)              (None, 346, 346, 6)       456       \n",
      "_________________________________________________________________\n",
      "average_pooling2d (AveragePo (None, 173, 173, 6)       0         \n",
      "_________________________________________________________________\n",
      "conv2d_1 (Conv2D)            (None, 169, 169, 16)      2416      \n",
      "_________________________________________________________________\n",
      "average_pooling2d_1 (Average (None, 84, 84, 16)        0         \n",
      "_________________________________________________________________\n",
      "flatten (Flatten)            (None, 112896)            0         \n",
      "_________________________________________________________________\n",
      "dense (Dense)                (None, 120)               13547640  \n",
      "_________________________________________________________________\n",
      "dense_1 (Dense)              (None, 84)                10164     \n",
      "_________________________________________________________________\n",
      "dense_2 (Dense)              (None, 25)                2125      \n",
      "=================================================================\n",
      "Total params: 13,562,801\n",
      "Trainable params: 13,562,801\n",
      "Non-trainable params: 0\n",
      "_________________________________________________________________\n"
     ]
    }
   ],
   "source": [
    "LeNetModel = Sequential()\n",
    "#First Convolutional Layer\n",
    "LeNetModel.add(Conv2D(6, (5,5), activation='relu',padding=\"valid\", \n",
    "                      kernel_regularizer = regularizers.l2(0.01), \n",
    "                      activity_regularizer=regularizers.l2(0.01),\n",
    "                      input_shape = X_train[0].shape))\n",
    "#Second Layer \n",
    "LeNetModel.add(AveragePooling2D(pool_size=(2, 2), strides=2))\n",
    "#Third Layer\n",
    "LeNetModel.add(Conv2D(16, (5,5), activation='relu',\n",
    "                      kernel_regularizer = regularizers.l2(0.01),\n",
    "                      activity_regularizer=regularizers.l2(0.01)))\n",
    "# Fourth Layer\n",
    "LeNetModel.add(AveragePooling2D(pool_size=(2, 2), strides=2))\n",
    "\n",
    "LeNetModel.add(Flatten())\n",
    "#Fifth Layer\n",
    "LeNetModel.add(Dense(120, activation='relu',\n",
    "                     kernel_regularizer = regularizers.l2(0.01),\n",
    "                     activity_regularizer=regularizers.l2(0.01)))\n",
    "#Sixth Layer \n",
    "LeNetModel.add(Dense(84, activation='relu',\n",
    "                     kernel_regularizer = regularizers.l2(0.01),\n",
    "                     activity_regularizer=regularizers.l2(0.01)))\n",
    "#output layer\n",
    "LeNetModel.add(Dense(25, activation='sigmoid'))\n",
    "\n",
    "LeNetModel.summary()"
   ]
  },
  {
   "cell_type": "markdown",
   "metadata": {
    "colab_type": "text",
    "id": "saQHXeYoYR30"
   },
   "source": [
    "**Now** let's compile our **LeNet** model."
   ]
  },
  {
   "cell_type": "code",
   "execution_count": 19,
   "metadata": {
    "colab": {
     "base_uri": "https://localhost:8080/",
     "height": 34
    },
    "colab_type": "code",
    "id": "NUO5kXd_dHUX",
    "outputId": "12b59aeb-4857-4b3e-c153-e3abee20c61b"
   },
   "outputs": [
    {
     "name": "stdout",
     "output_type": "stream",
     "text": [
      "LeNet model compiled successfully :)\n"
     ]
    }
   ],
   "source": [
    "LeNetModel.compile(optimizer=\"adam\", loss=\"binary_crossentropy\", metrics=[\"accuracy\"])\n",
    "print(\"LeNet model compiled successfully :)\")"
   ]
  },
  {
   "cell_type": "markdown",
   "metadata": {
    "colab_type": "text",
    "id": "s0ZtYVN8p76J"
   },
   "source": [
    "**Now** let's train our **LeNet** model."
   ]
  },
  {
   "cell_type": "code",
   "execution_count": 20,
   "metadata": {
    "colab": {
     "base_uri": "https://localhost:8080/",
     "height": 474
    },
    "colab_type": "code",
    "id": "G9O31fVqiFIM",
    "outputId": "ad20fc6d-d102-4e0e-ff12-3518e3fdbf9e"
   },
   "outputs": [
    {
     "name": "stdout",
     "output_type": "stream",
     "text": [
      "Train on 4642 samples, validate on 1161 samples\n",
      "Epoch 1/10\n",
      "WARNING:tensorflow:From /usr/local/lib/python3.6/dist-packages/tensorflow_core/python/ops/nn_impl.py:183: where (from tensorflow.python.ops.array_ops) is deprecated and will be removed in a future version.\n",
      "Instructions for updating:\n",
      "Use tf.where in 2.0, which has the same broadcast rule as np.where\n",
      "WARNING:tensorflow:Entity <function Function._initialize_uninitialized_variables.<locals>.initialize_variables at 0x7fd9e768c0d0> could not be transformed and will be executed as-is. Please report this to the AutoGraph team. When filing the bug, set the verbosity to 10 (on Linux, `export AUTOGRAPH_VERBOSITY=10`) and attach the full output. Cause: module 'gast' has no attribute 'Num'\n",
      "WARNING: Entity <function Function._initialize_uninitialized_variables.<locals>.initialize_variables at 0x7fd9e768c0d0> could not be transformed and will be executed as-is. Please report this to the AutoGraph team. When filing the bug, set the verbosity to 10 (on Linux, `export AUTOGRAPH_VERBOSITY=10`) and attach the full output. Cause: module 'gast' has no attribute 'Num'\n",
      "4642/4642 [==============================] - 153s 33ms/sample - loss: 4.4403 - accuracy: 0.8895 - val_loss: 0.6796 - val_accuracy: 0.9062\n",
      "Epoch 2/10\n",
      "4642/4642 [==============================] - 149s 32ms/sample - loss: 0.5144 - accuracy: 0.9071 - val_loss: 0.4353 - val_accuracy: 0.9062\n",
      "Epoch 3/10\n",
      "4642/4642 [==============================] - 148s 32ms/sample - loss: 0.3938 - accuracy: 0.9069 - val_loss: 0.3708 - val_accuracy: 0.9062\n",
      "Epoch 4/10\n",
      "4642/4642 [==============================] - 149s 32ms/sample - loss: 0.3512 - accuracy: 0.9066 - val_loss: 0.3407 - val_accuracy: 0.9062\n",
      "Epoch 5/10\n",
      "4642/4642 [==============================] - 147s 32ms/sample - loss: 0.3287 - accuracy: 0.9066 - val_loss: 0.3237 - val_accuracy: 0.9062\n",
      "Epoch 6/10\n",
      "4642/4642 [==============================] - 148s 32ms/sample - loss: 0.3151 - accuracy: 0.9072 - val_loss: 0.3126 - val_accuracy: 0.9067\n",
      "Epoch 7/10\n",
      "4642/4642 [==============================] - 147s 32ms/sample - loss: 0.3057 - accuracy: 0.9070 - val_loss: 0.3046 - val_accuracy: 0.9062\n",
      "Epoch 8/10\n",
      "4642/4642 [==============================] - 147s 32ms/sample - loss: 0.2988 - accuracy: 0.9069 - val_loss: 0.2984 - val_accuracy: 0.9067\n",
      "Epoch 9/10\n",
      "4642/4642 [==============================] - 147s 32ms/sample - loss: 0.2933 - accuracy: 0.9069 - val_loss: 0.2937 - val_accuracy: 0.9067\n",
      "Epoch 10/10\n",
      "4642/4642 [==============================] - 147s 32ms/sample - loss: 0.2891 - accuracy: 0.9066 - val_loss: 0.2898 - val_accuracy: 0.9062\n"
     ]
    }
   ],
   "source": [
    "LeNetHistory = LeNetModel.fit(X_train, y_train, epochs=10, validation_data=(X_valid, y_valid), batch_size = None) "
   ]
  },
  {
   "cell_type": "markdown",
   "metadata": {
    "colab_type": "text",
    "id": "T61DfKt4qFmK"
   },
   "source": [
    "As we see **training accuracy** and **validation accuracy** almost equal **90%**. let's now draw graphs to get more insights."
   ]
  },
  {
   "cell_type": "code",
   "execution_count": 21,
   "metadata": {
    "colab": {
     "base_uri": "https://localhost:8080/",
     "height": 650
    },
    "colab_type": "code",
    "id": "2a63jn4f6nUR",
    "outputId": "002b7aaf-67f3-4c4d-9b78-1431c05b6305"
   },
   "outputs": [
    {
     "data": {
      "image/png": "[encoded data removed]",
      "text/plain": [
       "<Figure size 432x288 with 1 Axes>"
      ]
     },
     "metadata": {
      "tags": []
     },
     "output_type": "display_data"
    },
    {
     "name": "stdout",
     "output_type": "stream",
     "text": [
      "\n"
     ]
    },
    {
     "data": {
      "image/png": "[encoded data removed]",
      "text/plain": [
       "<Figure size 432x288 with 1 Axes>"
      ]
     },
     "metadata": {
      "tags": []
     },
     "output_type": "display_data"
    }
   ],
   "source": [
    "plt.style.use('fivethirtyeight')\n",
    "LW = 3 #line width (lw)\n",
    "\n",
    "plt.plot(LeNetHistory.history['accuracy'], linewidth = LW)\n",
    "plt.plot(LeNetHistory.history['val_accuracy'], linewidth = LW)\n",
    "plt.title(\"Accuracy vs #epochs\")\n",
    "plt.xlabel(\"epoch number\")\n",
    "plt.ylabel(\"accuracy score\")\n",
    "plt.legend(['train','val'])\n",
    "plt.show()\n",
    "\n",
    "print()\n",
    "\n",
    "plt.plot(LeNetHistory.history['loss'], linewidth = LW)\n",
    "plt.plot(LeNetHistory.history['val_loss'], linewidth = LW)\n",
    "plt.title(\"Loss vs #epochs\")\n",
    "plt.xlabel(\"epoch number\")\n",
    "plt.ylabel(\"loss score\")\n",
    "plt.legend(['train','val'])\n",
    "plt.show()"
   ]
  },
  {
   "cell_type": "markdown",
   "metadata": {
    "colab_type": "text",
    "id": "FyZVfnvLrN4V"
   },
   "source": [
    "## 4.2 AlexNet\n",
    "\n",
    "The network is similar to the LeNet Architecture, but has a large no. of filters compared to the original LeNet, and thus was able to classify among a large class of objects. Moreover, it used “dropout” instead of regularization, to deal with overfitting. (Dropout essentially decreases the size of the no. of parameters to be accounted for during the process of training/learning). [towardsdatascience](https://towardsdatascience.com/various-types-of-convolutional-neural-network-8b00c9a08a1b)\n",
    "\n",
    "<br>\n",
    "\n",
    "![image](https://neurohive.io/wp-content/uploads/2018/10/AlexNet-1.png)\n",
    "\n",
    "Image from [neurohive.io](https://neurohive.io/en/popular-networks/alexnet-imagenet-classification-with-deep-convolutional-neural-networks/)\n",
    "\n",
    "* First, a Convolution Layer (CL) of 96 filters of size 11 X 11 and stride 4.\n",
    "* Next, a Max-Pooling Layer (M-PL) of filter size 3 X 3 and stride = 2.\n",
    "* Again, a CL of 256 filters of size 5 X 5 and stride = 4.\n",
    "* Then, a M-PL of filter size 3 X 3 and stride = 2.\n",
    "* Again, a CL of 384 filters of size 3 X 3 and stride = 4.\n",
    "* Again, a CL of 384 filters of size 3 X 3 and stride = 4.\n",
    "* Again, a CL of 256 filters of size 3 X 3 and stride = 4.\n",
    "* Then, a M-Pl of filter size 3 X 3 and stride = 2.\n",
    "* The output of the last layer, when converted into input-layer like for the Fully Connected Block consists of 9261 nodes, fully connected to a hidden layer with 4096 nodes.\n",
    "* The first hidden layer is again fully connected to another hidden layer consisting 4096 nodes.\n",
    "* This last hidden layer is fully connected to the output layer implementing “softmax regression” of 1000 nodes.\n",
    "\n",
    "[towardsdatascience](https://towardsdatascience.com/various-types-of-convolutional-neural-network-8b00c9a08a1b)\n",
    "\n",
    "**let's implement it**"
   ]
  },
  {
   "cell_type": "code",
   "execution_count": 22,
   "metadata": {
    "colab": {
     "base_uri": "https://localhost:8080/",
     "height": 554
    },
    "colab_type": "code",
    "id": "MzWJcrcVK5Na",
    "outputId": "8ebf2a95-591c-447b-adb8-b509a75ff4e3"
   },
   "outputs": [
    {
     "name": "stdout",
     "output_type": "stream",
     "text": [
      "Model: \"sequential_1\"\n",
      "_________________________________________________________________\n",
      "Layer (type)                 Output Shape              Param #   \n",
      "=================================================================\n",
      "conv2d_2 (Conv2D)            (None, 85, 85, 96)        34944     \n",
      "_________________________________________________________________\n",
      "max_pooling2d (MaxPooling2D) (None, 42, 42, 96)        0         \n",
      "_________________________________________________________________\n",
      "conv2d_3 (Conv2D)            (None, 10, 10, 256)       614656    \n",
      "_________________________________________________________________\n",
      "max_pooling2d_1 (MaxPooling2 (None, 4, 4, 256)         0         \n",
      "_________________________________________________________________\n",
      "conv2d_4 (Conv2D)            (None, 1, 1, 384)         885120    \n",
      "_________________________________________________________________\n",
      "conv2d_5 (Conv2D)            (None, 1, 1, 384)         1327488   \n",
      "_________________________________________________________________\n",
      "conv2d_6 (Conv2D)            (None, 1, 1, 256)         884992    \n",
      "_________________________________________________________________\n",
      "max_pooling2d_2 (MaxPooling2 (None, 1, 1, 256)         0         \n",
      "_________________________________________________________________\n",
      "flatten_1 (Flatten)          (None, 256)               0         \n",
      "_________________________________________________________________\n",
      "dense_3 (Dense)              (None, 4096)              1052672   \n",
      "_________________________________________________________________\n",
      "dense_4 (Dense)              (None, 4096)              16781312  \n",
      "_________________________________________________________________\n",
      "dense_5 (Dense)              (None, 25)                102425    \n",
      "=================================================================\n",
      "Total params: 21,683,609\n",
      "Trainable params: 21,683,609\n",
      "Non-trainable params: 0\n",
      "_________________________________________________________________\n"
     ]
    }
   ],
   "source": [
    "AlexNetModel = Sequential()\n",
    "\n",
    "AlexNetModel.add(Conv2D(96, (11,11), activation='relu', strides=4, input_shape = X_train[0].shape))\n",
    "AlexNetModel.add(MaxPool2D(pool_size=(3,3), strides=2))\n",
    "\n",
    "AlexNetModel.add(Conv2D(256, (5,5), activation='relu', strides=4))\n",
    "AlexNetModel.add(MaxPool2D(pool_size=(3,3), strides=2))\n",
    "\n",
    "AlexNetModel.add(Conv2D(384, (3,3), activation='relu', strides=4))\n",
    "AlexNetModel.add(Conv2D(384, (3,3), padding=\"same\", activation='relu', strides=4))\n",
    "AlexNetModel.add(Conv2D(256, (3,3), padding=\"same\", activation='relu', strides=4))\n",
    "AlexNetModel.add(MaxPool2D(pool_size=(3,3), padding=\"same\", strides=2))\n",
    "\n",
    "AlexNetModel.add(Flatten())\n",
    "AlexNetModel.add(Dense(4096, activation='relu'))\n",
    "AlexNetModel.add(Dense(4096, activation='relu'))\n",
    "\n",
    "#output layer\n",
    "AlexNetModel.add(Dense(25, activation='sigmoid'))\n",
    "\n",
    "AlexNetModel.summary()"
   ]
  },
  {
   "cell_type": "markdown",
   "metadata": {
    "colab_type": "text",
    "id": "v2IOja2dw9bD"
   },
   "source": [
    "**Now** let's compile our **AlexNet** model."
   ]
  },
  {
   "cell_type": "code",
   "execution_count": 23,
   "metadata": {
    "colab": {
     "base_uri": "https://localhost:8080/",
     "height": 34
    },
    "colab_type": "code",
    "id": "rSri2eTdvLXa",
    "outputId": "e9b8a553-52e0-4c63-cc3f-bbcf1916cb18"
   },
   "outputs": [
    {
     "name": "stdout",
     "output_type": "stream",
     "text": [
      "AlexNet model compiled successfully :)\n"
     ]
    }
   ],
   "source": [
    "AlexNetModel.compile(optimizer=\"adam\", loss=\"binary_crossentropy\", metrics=[\"accuracy\"])\n",
    "print(\"AlexNet model compiled successfully :)\")"
   ]
  },
  {
   "cell_type": "markdown",
   "metadata": {
    "colab_type": "text",
    "id": "PRZOB2cdxSCG"
   },
   "source": [
    "**Now** let's train our **AlexNet** model"
   ]
  },
  {
   "cell_type": "code",
   "execution_count": 24,
   "metadata": {
    "colab": {
     "base_uri": "https://localhost:8080/",
     "height": 423
    },
    "colab_type": "code",
    "id": "8Z32Z4FuxMY8",
    "outputId": "590f7373-4746-4be8-f95d-987c45d3f54b"
   },
   "outputs": [
    {
     "name": "stdout",
     "output_type": "stream",
     "text": [
      "Train on 4642 samples, validate on 1161 samples\n",
      "Epoch 1/10\n",
      "WARNING:tensorflow:Entity <function Function._initialize_uninitialized_variables.<locals>.initialize_variables at 0x7fd9a89b71e0> could not be transformed and will be executed as-is. Please report this to the AutoGraph team. When filing the bug, set the verbosity to 10 (on Linux, `export AUTOGRAPH_VERBOSITY=10`) and attach the full output. Cause: module 'gast' has no attribute 'Num'\n",
      "WARNING: Entity <function Function._initialize_uninitialized_variables.<locals>.initialize_variables at 0x7fd9a89b71e0> could not be transformed and will be executed as-is. Please report this to the AutoGraph team. When filing the bug, set the verbosity to 10 (on Linux, `export AUTOGRAPH_VERBOSITY=10`) and attach the full output. Cause: module 'gast' has no attribute 'Num'\n",
      "4642/4642 [==============================] - 38s 8ms/sample - loss: 0.2593 - accuracy: 0.9025 - val_loss: 0.2483 - val_accuracy: 0.9067\n",
      "Epoch 2/10\n",
      "4642/4642 [==============================] - 37s 8ms/sample - loss: 0.2446 - accuracy: 0.9070 - val_loss: 0.2445 - val_accuracy: 0.9076\n",
      "Epoch 3/10\n",
      "4642/4642 [==============================] - 37s 8ms/sample - loss: 0.2407 - accuracy: 0.9076 - val_loss: 0.2437 - val_accuracy: 0.9090\n",
      "Epoch 4/10\n",
      "4642/4642 [==============================] - 38s 8ms/sample - loss: 0.2390 - accuracy: 0.9095 - val_loss: 0.2393 - val_accuracy: 0.9098\n",
      "Epoch 5/10\n",
      "4642/4642 [==============================] - 37s 8ms/sample - loss: 0.2383 - accuracy: 0.9103 - val_loss: 0.2411 - val_accuracy: 0.9079\n",
      "Epoch 6/10\n",
      "4642/4642 [==============================] - 37s 8ms/sample - loss: 0.2374 - accuracy: 0.9104 - val_loss: 0.2388 - val_accuracy: 0.9117\n",
      "Epoch 7/10\n",
      "4642/4642 [==============================] - 38s 8ms/sample - loss: 0.2358 - accuracy: 0.9119 - val_loss: 0.2394 - val_accuracy: 0.9115\n",
      "Epoch 8/10\n",
      "4642/4642 [==============================] - 37s 8ms/sample - loss: 0.2351 - accuracy: 0.9127 - val_loss: 0.2390 - val_accuracy: 0.9097\n",
      "Epoch 9/10\n",
      "4642/4642 [==============================] - 37s 8ms/sample - loss: 0.2341 - accuracy: 0.9133 - val_loss: 0.2379 - val_accuracy: 0.9122\n",
      "Epoch 10/10\n",
      "4642/4642 [==============================] - 37s 8ms/sample - loss: 0.2329 - accuracy: 0.9139 - val_loss: 0.2378 - val_accuracy: 0.9123\n"
     ]
    }
   ],
   "source": [
    "AlexNetHistory = AlexNetModel.fit(X_train, y_train, epochs=10, validation_data=(X_valid, y_valid), batch_size = None) "
   ]
  },
  {
   "cell_type": "markdown",
   "metadata": {
    "colab_type": "text",
    "id": "mn6QWeRM6kQB"
   },
   "source": [
    "As we see **training accuracy** accuracy almost equal 92% and **validation accuracy** almost equal 91%. let's now draw graphs to get more insights."
   ]
  },
  {
   "cell_type": "code",
   "execution_count": 25,
   "metadata": {
    "colab": {
     "base_uri": "https://localhost:8080/",
     "height": 650
    },
    "colab_type": "code",
    "id": "dgmHRimhxgRO",
    "outputId": "04c7f391-ca2d-4225-fbc0-ac761dfab79a"
   },
   "outputs": [
    {
     "data": {
      "image/png": "[encoded data removed]",
      "text/plain": [
       "<Figure size 432x288 with 1 Axes>"
      ]
     },
     "metadata": {
      "tags": []
     },
     "output_type": "display_data"
    },
    {
     "name": "stdout",
     "output_type": "stream",
     "text": [
      "\n"
     ]
    },
    {
     "data": {
      "image/png": "[encoded data removed]",
      "text/plain": [
       "<Figure size 432x288 with 1 Axes>"
      ]
     },
     "metadata": {
      "tags": []
     },
     "output_type": "display_data"
    }
   ],
   "source": [
    "plt.style.use('fivethirtyeight')\n",
    "LW = 3 #line width (lw)\n",
    "\n",
    "plt.plot(AlexNetHistory.history['accuracy'], linewidth = LW)\n",
    "plt.plot(AlexNetHistory.history['val_accuracy'], linewidth = LW)\n",
    "plt.title(\"Accuracy vs #epochs\")\n",
    "plt.xlabel(\"epoch number\")\n",
    "plt.ylabel(\"accuracy score\")\n",
    "plt.legend(['train','val'])\n",
    "plt.show()\n",
    "\n",
    "print()\n",
    "\n",
    "plt.plot(AlexNetHistory.history['loss'], linewidth = LW)\n",
    "plt.plot(AlexNetHistory.history['val_loss'], linewidth = LW)\n",
    "plt.title(\"Loss vs #epochs\")\n",
    "plt.xlabel(\"epoch number\")\n",
    "plt.ylabel(\"loss score\")\n",
    "plt.legend(['train','val'])\n",
    "plt.show()"
   ]
  },
  {
   "cell_type": "markdown",
   "metadata": {
    "colab_type": "text",
    "id": "VJpFF3f_63HV"
   },
   "source": [
    "## 4.3 VGGNet 16\n",
    "\n",
    "VGG16 is a convolutional neural network model proposed by K. Simonyan and A. Zisserman from the University of Oxford in the paper “Very Deep Convolutional Networks for Large-Scale Image Recognition”. The model achieves 92.7% top-5 test accuracy in ImageNet, which is a dataset of over 14 million images belonging to 1000 classes. It was one of the famous model submitted to ILSVRC-2014. It makes the improvement over AlexNet by replacing large kernel-sized filters (11 and 5 in the first and second convolutional layer, respectively) with multiple 3×3 kernel-sized filters one after another. VGG16 was trained for weeks and was using NVIDIA Titan Black GPU’s. [neurohive.io](https://neurohive.io/en/popular-networks/vgg16/)\n",
    "\n",
    "<br>\n",
    "\n",
    "![image](https://neurohive.io/wp-content/uploads/2018/11/vgg16-1-e1542731207177.png)\n",
    "\n",
    "Image from [neurohive.io](https://neurohive.io/en/popular-networks/vgg16/)\n",
    "\n",
    "<br>\n",
    "\n",
    "**layer are constant:**\n",
    "<br>\n",
    "CONVOLUTION LAYER has filters of size 3 X 3 and stride = 1 \n",
    "<br>\n",
    "and the MAX-POOLING LAYER has filters of size 2 X 2 and stride = 2.\n",
    "<br> \n",
    "\n",
    "* Convolutional Layer (CL) of 64 filters.\n",
    "* CL of 64 filters again.\n",
    "* Max-Pooling Layer (M-PL)\n",
    "* CL of 128 filters.\n",
    "* CL of 128 filters again.\n",
    "* M-PL.\n",
    "* CL of 256 filters.\n",
    "* CL of 256 filters again.\n",
    "* CL of 256 filters again.\n",
    "* M-PL.\n",
    "* CL of 512 filters.\n",
    "* CL of 512 filters again.\n",
    "* CL of 512 filters again.\n",
    "* M-PL.\n",
    "* CL of 512 filters.\n",
    "* CL of 512 filters again.\n",
    "* CL of 512 filters again.\n",
    "* M-PL.\n",
    "* The output of the last Pooling Layer is fed into a fully connected hidden layer consisting of 4096 nodes.\n",
    "* This is again fully connected to another hidden layer consisting again of 4096 nodes.\n",
    "* This is fully connected to an output layer implementing “softmax regression”, classifying among 1000 classes of objects\n",
    "<a href=\"https://towardsdatascience.com/various-types-of-convolutional-neural-network-8b00c9a08a1b\">towardsdatascience</a>\n",
    "\n",
    "**let's implement it**\n",
    "\n",
    "\n"
   ]
  },
  {
   "cell_type": "code",
   "execution_count": 26,
   "metadata": {
    "colab": {
     "base_uri": "https://localhost:8080/",
     "height": 890
    },
    "colab_type": "code",
    "id": "OrAC8R4jzlkm",
    "outputId": "56d776d3-0583-4f50-8502-a96de38d3839"
   },
   "outputs": [
    {
     "name": "stdout",
     "output_type": "stream",
     "text": [
      "Model: \"sequential_2\"\n",
      "_________________________________________________________________\n",
      "Layer (type)                 Output Shape              Param #   \n",
      "=================================================================\n",
      "conv2d_7 (Conv2D)            (None, 348, 348, 64)      1792      \n",
      "_________________________________________________________________\n",
      "conv2d_8 (Conv2D)            (None, 346, 346, 64)      36928     \n",
      "_________________________________________________________________\n",
      "max_pooling2d_3 (MaxPooling2 (None, 173, 173, 64)      0         \n",
      "_________________________________________________________________\n",
      "conv2d_9 (Conv2D)            (None, 171, 171, 128)     73856     \n",
      "_________________________________________________________________\n",
      "conv2d_10 (Conv2D)           (None, 169, 169, 128)     147584    \n",
      "_________________________________________________________________\n",
      "max_pooling2d_4 (MaxPooling2 (None, 84, 84, 128)       0         \n",
      "_________________________________________________________________\n",
      "conv2d_11 (Conv2D)           (None, 82, 82, 256)       295168    \n",
      "_________________________________________________________________\n",
      "conv2d_12 (Conv2D)           (None, 80, 80, 256)       590080    \n",
      "_________________________________________________________________\n",
      "conv2d_13 (Conv2D)           (None, 78, 78, 128)       295040    \n",
      "_________________________________________________________________\n",
      "max_pooling2d_5 (MaxPooling2 (None, 39, 39, 128)       0         \n",
      "_________________________________________________________________\n",
      "conv2d_14 (Conv2D)           (None, 37, 37, 512)       590336    \n",
      "_________________________________________________________________\n",
      "conv2d_15 (Conv2D)           (None, 35, 35, 512)       2359808   \n",
      "_________________________________________________________________\n",
      "conv2d_16 (Conv2D)           (None, 33, 33, 512)       2359808   \n",
      "_________________________________________________________________\n",
      "max_pooling2d_6 (MaxPooling2 (None, 16, 16, 512)       0         \n",
      "_________________________________________________________________\n",
      "conv2d_17 (Conv2D)           (None, 14, 14, 512)       2359808   \n",
      "_________________________________________________________________\n",
      "conv2d_18 (Conv2D)           (None, 12, 12, 512)       2359808   \n",
      "_________________________________________________________________\n",
      "conv2d_19 (Conv2D)           (None, 10, 10, 512)       2359808   \n",
      "_________________________________________________________________\n",
      "max_pooling2d_7 (MaxPooling2 (None, 5, 5, 512)         0         \n",
      "_________________________________________________________________\n",
      "flatten_2 (Flatten)          (None, 12800)             0         \n",
      "_________________________________________________________________\n",
      "dense_6 (Dense)              (None, 4096)              52432896  \n",
      "_________________________________________________________________\n",
      "dense_7 (Dense)              (None, 4096)              16781312  \n",
      "_________________________________________________________________\n",
      "dense_8 (Dense)              (None, 25)                102425    \n",
      "=================================================================\n",
      "Total params: 83,146,457\n",
      "Trainable params: 83,146,457\n",
      "Non-trainable params: 0\n",
      "_________________________________________________________________\n"
     ]
    }
   ],
   "source": [
    "VGG16Model = Sequential()\n",
    "\n",
    "VGG16Model.add(Conv2D(64, (3,3), activation='relu', strides=1, input_shape = X_train[0].shape))\n",
    "VGG16Model.add(Conv2D(64, (3,3), activation='relu', strides=1))\n",
    "VGG16Model.add(MaxPool2D(pool_size=(2,2), strides=2))\n",
    "\n",
    "VGG16Model.add(Conv2D(128, (3,3), activation='relu', strides=1))\n",
    "VGG16Model.add(Conv2D(128, (3,3), activation='relu', strides=1))\n",
    "VGG16Model.add(MaxPool2D(pool_size=(2,2), strides=2))\n",
    "\n",
    "VGG16Model.add(Conv2D(256, (3,3), activation='relu', strides=1))\n",
    "VGG16Model.add(Conv2D(256, (3,3), activation='relu', strides=1))\n",
    "VGG16Model.add(Conv2D(128, (3,3), activation='relu', strides=1))\n",
    "VGG16Model.add(MaxPool2D(pool_size=(2,2), strides=2))\n",
    "\n",
    "VGG16Model.add(Conv2D(512, (3,3), activation='relu', strides=1))\n",
    "VGG16Model.add(Conv2D(512, (3,3), activation='relu', strides=1))\n",
    "VGG16Model.add(Conv2D(512, (3,3), activation='relu', strides=1))\n",
    "VGG16Model.add(MaxPool2D(pool_size=(2,2), strides=2))\n",
    "\n",
    "VGG16Model.add(Conv2D(512, (3,3), activation='relu', strides=1))\n",
    "VGG16Model.add(Conv2D(512, (3,3), activation='relu', strides=1))\n",
    "VGG16Model.add(Conv2D(512, (3,3), activation='relu', strides=1))\n",
    "VGG16Model.add(MaxPool2D(pool_size=(2,2), strides=2))\n",
    "\n",
    "VGG16Model.add(Flatten())\n",
    "\n",
    "VGG16Model.add(Dense(4096, activation='relu'))\n",
    "VGG16Model.add(Dense(4096, activation='relu'))\n",
    "VGG16Model.add(Dense(25, activation='sigmoid'))\n",
    "\n",
    "VGG16Model.summary()"
   ]
  },
  {
   "cell_type": "markdown",
   "metadata": {},
   "source": [
    "**Now** let's compile our **VGG16** model."
   ]
  },
  {
   "cell_type": "code",
   "execution_count": 27,
   "metadata": {
    "colab": {
     "base_uri": "https://localhost:8080/",
     "height": 34
    },
    "colab_type": "code",
    "id": "jeMZp1ux_o6K",
    "outputId": "4622a81b-30a9-4243-8755-7136439417e2"
   },
   "outputs": [
    {
     "name": "stdout",
     "output_type": "stream",
     "text": [
      "VGG16Model model compiled successfully :)\n"
     ]
    }
   ],
   "source": [
    "VGG16Model.compile(optimizer=\"adam\", loss=\"binary_crossentropy\", metrics=[\"accuracy\"])\n",
    "print(\"VGG16Model model compiled successfully :)\")"
   ]
  },
  {
   "cell_type": "markdown",
   "metadata": {},
   "source": [
    "**Now** let's train our **VGG16** model"
   ]
  },
  {
   "cell_type": "code",
   "execution_count": 28,
   "metadata": {
    "colab": {
     "base_uri": "https://localhost:8080/",
     "height": 255
    },
    "colab_type": "code",
    "id": "rMf44vd-_xNq",
    "outputId": "881e9c74-7fe4-44cd-b500-d1d7bfb72de9"
   },
   "outputs": [
    {
     "name": "stdout",
     "output_type": "stream",
     "text": [
      "Train on 4642 samples, validate on 1161 samples\n",
      "Epoch 1/5\n",
      "WARNING:tensorflow:Entity <function Function._initialize_uninitialized_variables.<locals>.initialize_variables at 0x7fd9a65571e0> could not be transformed and will be executed as-is. Please report this to the AutoGraph team. When filing the bug, set the verbosity to 10 (on Linux, `export AUTOGRAPH_VERBOSITY=10`) and attach the full output. Cause: module 'gast' has no attribute 'Num'\n",
      "WARNING: Entity <function Function._initialize_uninitialized_variables.<locals>.initialize_variables at 0x7fd9a65571e0> could not be transformed and will be executed as-is. Please report this to the AutoGraph team. When filing the bug, set the verbosity to 10 (on Linux, `export AUTOGRAPH_VERBOSITY=10`) and attach the full output. Cause: module 'gast' has no attribute 'Num'\n",
      "4642/4642 [==============================] - 1628s 351ms/sample - loss: 0.7240 - accuracy: 0.9009 - val_loss: 0.2507 - val_accuracy: 0.9067\n",
      "Epoch 2/5\n",
      "4642/4642 [==============================] - 1624s 350ms/sample - loss: 0.2456 - accuracy: 0.9063 - val_loss: 0.2480 - val_accuracy: 0.9062\n",
      "Epoch 3/5\n",
      "4642/4642 [==============================] - 1622s 349ms/sample - loss: 0.2448 - accuracy: 0.9072 - val_loss: 0.2475 - val_accuracy: 0.9067\n",
      "Epoch 4/5\n",
      "4642/4642 [==============================] - 1614s 348ms/sample - loss: 0.2448 - accuracy: 0.9076 - val_loss: 0.2477 - val_accuracy: 0.9062\n",
      "Epoch 5/5\n",
      "4642/4642 [==============================] - 1618s 349ms/sample - loss: 0.2443 - accuracy: 0.9066 - val_loss: 0.2471 - val_accuracy: 0.9062\n"
     ]
    }
   ],
   "source": [
    "VGG16ModelHistory = VGG16Model.fit(X_train, y_train, epochs=5, validation_data=(X_valid, y_valid), batch_size = None) "
   ]
  },
  {
   "cell_type": "code",
   "execution_count": 29,
   "metadata": {
    "colab": {
     "base_uri": "https://localhost:8080/",
     "height": 650
    },
    "colab_type": "code",
    "id": "CB40spQQUybQ",
    "outputId": "6f9e86de-a7a6-4816-b720-7fdc8776d76f"
   },
   "outputs": [
    {
     "data": {
      "image/png": "[encoded data removed]",
      "text/plain": [
       "<Figure size 432x288 with 1 Axes>"
      ]
     },
     "metadata": {
      "tags": []
     },
     "output_type": "display_data"
    },
    {
     "name": "stdout",
     "output_type": "stream",
     "text": [
      "\n"
     ]
    },
    {
     "data": {
      "image/png": "[encoded data removed]",
      "text/plain": [
       "<Figure size 432x288 with 1 Axes>"
      ]
     },
     "metadata": {
      "tags": []
     },
     "output_type": "display_data"
    }
   ],
   "source": [
    "plt.style.use('fivethirtyeight')\n",
    "LW = 3 #line width (lw)\n",
    "\n",
    "plt.plot(VGG16ModelHistory.history['accuracy'], linewidth = LW)\n",
    "plt.plot(VGG16ModelHistory.history['val_accuracy'], linewidth = LW)\n",
    "plt.title(\"Accuracy vs #epochs\")\n",
    "plt.xlabel(\"epoch number\")\n",
    "plt.ylabel(\"accuracy score\")\n",
    "plt.legend(['train','val'])\n",
    "plt.show()\n",
    "\n",
    "print()\n",
    "\n",
    "plt.plot(VGG16ModelHistory.history['loss'], linewidth = LW)\n",
    "plt.plot(VGG16ModelHistory.history['val_loss'], linewidth = LW)\n",
    "plt.title(\"Loss vs #epochs\")\n",
    "plt.xlabel(\"epoch number\")\n",
    "plt.ylabel(\"loss score\")\n",
    "plt.legend(['train','val'])\n",
    "plt.show()"
   ]
  },
  {
   "cell_type": "markdown",
   "metadata": {},
   "source": [
    "**Now we will save AlexNet model for reuse purpose**"
   ]
  },
  {
   "cell_type": "code",
   "execution_count": 0,
   "metadata": {
    "colab": {},
    "colab_type": "code",
    "id": "21BhJzpuREiT"
   },
   "outputs": [],
   "source": [
    "AlexNetModel.save(\"AlexNetModel.h5\")"
   ]
  }
 ],
 "metadata": {
  "accelerator": "TPU",
  "colab": {
   "collapsed_sections": [],
   "machine_shape": "hm",
   "name": "Movie Genres Classification.ipynb",
   "provenance": [],
   "toc_visible": true
  },
  "kernelspec": {
   "display_name": "Python 3",
   "language": "python",
   "name": "python3"
  },
  "language_info": {
   "codemirror_mode": {
    "name": "ipython",
    "version": 3
   },
   "file_extension": ".py",
   "mimetype": "text/x-python",
   "name": "python",
   "nbconvert_exporter": "python",
   "pygments_lexer": "ipython3",
   "version": "3.7.3"
  }
 },
 "nbformat": 4,
 "nbformat_minor": 1
}
